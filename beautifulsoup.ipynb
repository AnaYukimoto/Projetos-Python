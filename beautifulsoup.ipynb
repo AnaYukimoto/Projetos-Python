{
  "nbformat": 4,
  "nbformat_minor": 0,
  "metadata": {
    "colab": {
      "provenance": [],
      "authorship_tag": "ABX9TyP7QLg6dTSeN2xrUKrjFDc8",
      "include_colab_link": true
    },
    "kernelspec": {
      "name": "python3",
      "display_name": "Python 3"
    },
    "language_info": {
      "name": "python"
    }
  },
  "cells": [
    {
      "cell_type": "markdown",
      "metadata": {
        "id": "view-in-github",
        "colab_type": "text"
      },
      "source": [
        "<a href=\"https://colab.research.google.com/github/AnaYukimoto/Projetos-Python/blob/main/beautifulsoup.ipynb\" target=\"_parent\"><img src=\"https://colab.research.google.com/assets/colab-badge.svg\" alt=\"Open In Colab\"/></a>"
      ]
    },
    {
      "cell_type": "code",
      "source": [
        "pip install beautifulsoup4 requests"
      ],
      "metadata": {
        "colab": {
          "base_uri": "https://localhost:8080/"
        },
        "id": "9Bx4RjkdYa-s",
        "outputId": "43b904aa-bdc0-4c10-ed11-e0f529e21e9c"
      },
      "execution_count": 1,
      "outputs": [
        {
          "output_type": "stream",
          "name": "stdout",
          "text": [
            "Requirement already satisfied: beautifulsoup4 in /usr/local/lib/python3.10/dist-packages (4.12.3)\n",
            "Requirement already satisfied: requests in /usr/local/lib/python3.10/dist-packages (2.32.3)\n",
            "Requirement already satisfied: soupsieve>1.2 in /usr/local/lib/python3.10/dist-packages (from beautifulsoup4) (2.6)\n",
            "Requirement already satisfied: charset-normalizer<4,>=2 in /usr/local/lib/python3.10/dist-packages (from requests) (3.3.2)\n",
            "Requirement already satisfied: idna<4,>=2.5 in /usr/local/lib/python3.10/dist-packages (from requests) (3.8)\n",
            "Requirement already satisfied: urllib3<3,>=1.21.1 in /usr/local/lib/python3.10/dist-packages (from requests) (2.0.7)\n",
            "Requirement already satisfied: certifi>=2017.4.17 in /usr/local/lib/python3.10/dist-packages (from requests) (2024.8.30)\n"
          ]
        }
      ]
    },
    {
      "cell_type": "code",
      "source": [
        "import requests\n",
        "from bs4 import BeautifulSoup\n",
        "import json"
      ],
      "metadata": {
        "id": "Nx84_pCcYdLy"
      },
      "execution_count": 2,
      "outputs": []
    },
    {
      "cell_type": "code",
      "source": [
        "url = 'https://example.com'\n",
        "resposta = requests.get(url)\n",
        "soup = BeautifulSoup(resposta.content, 'html.parser')\n",
        "\n",
        "# Extrair títulos de artigos como exemplo\n",
        "titulos = soup.find_all('h2', class_='titulo-artigo')\n",
        "for titulo in titulos:\n",
        "    print(titulo.get_text())"
      ],
      "metadata": {
        "id": "Y9ND-xICYj8E"
      },
      "execution_count": 3,
      "outputs": []
    },
    {
      "cell_type": "code",
      "source": [
        "api_url = 'https://api.coindesk.com/v1/bpi/currentprice.json'\n",
        "resposta_api = requests.get(api_url)\n",
        "dados_api = resposta_api.json()\n",
        "\n",
        "# Exibir o preço atual do Bitcoin\n",
        "print(\"Preço Atual do Bitcoin (USD):\", dados_api['bpi']['USD']['rate'])"
      ],
      "metadata": {
        "colab": {
          "base_uri": "https://localhost:8080/"
        },
        "id": "X-scqgusYmPg",
        "outputId": "6cc3357b-6bd5-4fb0-f670-c9acfb14a2e0"
      },
      "execution_count": 4,
      "outputs": [
        {
          "output_type": "stream",
          "name": "stdout",
          "text": [
            "Preço Atual do Bitcoin (USD): 58,070.833\n"
          ]
        }
      ]
    },
    {
      "cell_type": "code",
      "execution_count": 5,
      "metadata": {
        "colab": {
          "base_uri": "https://localhost:8080/"
        },
        "id": "zmH8VtY3YSKw",
        "outputId": "16933608-a3bc-48db-a9d9-606b2d72e17c"
      },
      "outputs": [
        {
          "output_type": "stream",
          "name": "stdout",
          "text": [
            "Dados combinados salvos em 'dados_combinados.json'\n"
          ]
        }
      ],
      "source": [
        "# Exemplo: salvar os títulos de artigos e o preço do Bitcoin em um arquivo JSON\n",
        "dados_combinados = {\n",
        "    'titulos_artigos': [titulo.get_text() for titulo in titulos],\n",
        "    'preco_bitcoin': dados_api['bpi']['USD']['rate']\n",
        "}\n",
        "\n",
        "with open('dados_combinados.json', 'w') as arquivo:\n",
        "    json.dump(dados_combinados, arquivo, indent=4)\n",
        "\n",
        "print(\"Dados combinados salvos em 'dados_combinados.json'\")"
      ]
    }
  ]
}