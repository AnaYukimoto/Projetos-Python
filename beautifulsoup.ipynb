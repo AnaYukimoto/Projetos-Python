{
  "nbformat": 4,
  "nbformat_minor": 0,
  "metadata": {
    "colab": {
      "provenance": [],
      "authorship_tag": "ABX9TyNO//POen2yl8cA9eH0u6N/",
      "include_colab_link": true
    },
    "kernelspec": {
      "name": "python3",
      "display_name": "Python 3"
    },
    "language_info": {
      "name": "python"
    }
  },
  "cells": [
    {
      "cell_type": "markdown",
      "metadata": {
        "id": "view-in-github",
        "colab_type": "text"
      },
      "source": [
        "<a href=\"https://colab.research.google.com/github/AnaYukimoto/Projetos-Python/blob/main/beautifulsoup.ipynb\" target=\"_parent\"><img src=\"https://colab.research.google.com/assets/colab-badge.svg\" alt=\"Open In Colab\"/></a>"
      ]
    },
    {
      "cell_type": "code",
      "source": [
        "pip install beautifulsoup4 requests"
      ],
      "metadata": {
        "colab": {
          "base_uri": "https://localhost:8080/"
        },
        "id": "9Bx4RjkdYa-s",
        "outputId": "43b904aa-bdc0-4c10-ed11-e0f529e21e9c"
      },
      "execution_count": null,
      "outputs": [
        {
          "output_type": "stream",
          "name": "stdout",
          "text": [
            "Requirement already satisfied: beautifulsoup4 in /usr/local/lib/python3.10/dist-packages (4.12.3)\n",
            "Requirement already satisfied: requests in /usr/local/lib/python3.10/dist-packages (2.32.3)\n",
            "Requirement already satisfied: soupsieve>1.2 in /usr/local/lib/python3.10/dist-packages (from beautifulsoup4) (2.6)\n",
            "Requirement already satisfied: charset-normalizer<4,>=2 in /usr/local/lib/python3.10/dist-packages (from requests) (3.3.2)\n",
            "Requirement already satisfied: idna<4,>=2.5 in /usr/local/lib/python3.10/dist-packages (from requests) (3.8)\n",
            "Requirement already satisfied: urllib3<3,>=1.21.1 in /usr/local/lib/python3.10/dist-packages (from requests) (2.0.7)\n",
            "Requirement already satisfied: certifi>=2017.4.17 in /usr/local/lib/python3.10/dist-packages (from requests) (2024.8.30)\n"
          ]
        }
      ]
    },
    {
      "cell_type": "code",
      "source": [
        "import requests\n",
        "from bs4 import BeautifulSoup\n",
        "import json"
      ],
      "metadata": {
        "id": "Nx84_pCcYdLy"
      },
      "execution_count": null,
      "outputs": []
    },
    {
      "cell_type": "code",
      "source": [
        "url = 'https://pt.wikipedia.org/wiki/Ariana_Grande'\n",
        "resposta = requests.get(url)\n",
        "soup = BeautifulSoup(resposta.content, 'html.parser')\n",
        "\n",
        "# Extrair títulos de artigos como exemplo\n",
        "titulos = soup.find_all('h1', class_='firstHeading mw-first-heading')\n",
        "for titulo in titulos:\n",
        "    print(titulo.get_text())"
      ],
      "metadata": {
        "id": "Y9ND-xICYj8E",
        "colab": {
          "base_uri": "https://localhost:8080/"
        },
        "outputId": "4aa21180-b27a-4e2b-c647-34bd895e9155"
      },
      "execution_count": 14,
      "outputs": [
        {
          "output_type": "stream",
          "name": "stdout",
          "text": [
            "Ariana Grande\n"
          ]
        }
      ]
    },
    {
      "cell_type": "code",
      "source": [
        "api_url = 'https://api.coindesk.com/v1/bpi/currentprice.json'\n",
        "resposta_api = requests.get(api_url)\n",
        "dados_api = resposta_api.json()\n",
        "\n",
        "# Exibir o preço atual do Bitcoin\n",
        "print(\"Preço Atual do Bitcoin (USD):\", dados_api['bpi']['USD']['rate'])"
      ],
      "metadata": {
        "colab": {
          "base_uri": "https://localhost:8080/"
        },
        "id": "X-scqgusYmPg",
        "outputId": "cf506814-8b98-43b9-a025-2073280e1b77"
      },
      "execution_count": 15,
      "outputs": [
        {
          "output_type": "stream",
          "name": "stdout",
          "text": [
            "Preço Atual do Bitcoin (USD): 58,117.039\n"
          ]
        }
      ]
    },
    {
      "cell_type": "code",
      "execution_count": 16,
      "metadata": {
        "colab": {
          "base_uri": "https://localhost:8080/"
        },
        "id": "zmH8VtY3YSKw",
        "outputId": "94efa358-c6eb-41e3-9cd7-9e979fee403e"
      },
      "outputs": [
        {
          "output_type": "stream",
          "name": "stdout",
          "text": [
            "Dados combinados salvos em 'dados_combinados.json'\n"
          ]
        }
      ],
      "source": [
        "# Exemplo: salvar os títulos de artigos e o preço do Bitcoin em um arquivo JSON\n",
        "dados_combinados = {\n",
        "    'titulos_artigos': [titulo.get_text() for titulo in titulos],\n",
        "    'preco_bitcoin': dados_api['bpi']['USD']['rate']\n",
        "}\n",
        "\n",
        "with open('dados_combinados.json', 'w') as arquivo:\n",
        "    json.dump(dados_combinados, arquivo, indent=4)\n",
        "\n",
        "print(\"Dados combinados salvos em 'dados_combinados.json'\")"
      ]
    }
  ]
}