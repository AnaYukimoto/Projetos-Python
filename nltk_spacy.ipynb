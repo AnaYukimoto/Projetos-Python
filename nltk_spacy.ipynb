{
  "nbformat": 4,
  "nbformat_minor": 0,
  "metadata": {
    "colab": {
      "provenance": [],
      "authorship_tag": "ABX9TyPfEiAG0XBYLwSTCntmdRCz",
      "include_colab_link": true
    },
    "kernelspec": {
      "name": "python3",
      "display_name": "Python 3"
    },
    "language_info": {
      "name": "python"
    }
  },
  "cells": [
    {
      "cell_type": "markdown",
      "metadata": {
        "id": "view-in-github",
        "colab_type": "text"
      },
      "source": [
        "<a href=\"https://colab.research.google.com/github/AnaYukimoto/Projetos-Python/blob/main/nltk_spacy.ipynb\" target=\"_parent\"><img src=\"https://colab.research.google.com/assets/colab-badge.svg\" alt=\"Open In Colab\"/></a>"
      ]
    },
    {
      "cell_type": "code",
      "source": [
        "pip install nltk spacy"
      ],
      "metadata": {
        "id": "7Mq3mXfRWXgj"
      },
      "execution_count": null,
      "outputs": []
    },
    {
      "cell_type": "code",
      "execution_count": 3,
      "metadata": {
        "colab": {
          "base_uri": "https://localhost:8080/"
        },
        "id": "4X7sZbR_WUc8",
        "outputId": "36709620-0c61-4d7f-a368-02cb4a4e5f12"
      },
      "outputs": [
        {
          "output_type": "stream",
          "name": "stderr",
          "text": [
            "[nltk_data] Downloading package punkt to /root/nltk_data...\n",
            "[nltk_data]   Unzipping tokenizers/punkt.zip.\n",
            "[nltk_data] Downloading package stopwords to /root/nltk_data...\n",
            "[nltk_data]   Unzipping corpora/stopwords.zip.\n"
          ]
        }
      ],
      "source": [
        "import nltk\n",
        "import spacy\n",
        "from nltk.corpus import stopwords\n",
        "from nltk.tokenize import word_tokenize\n",
        "nltk.download('punkt')\n",
        "nltk.download('stopwords')\n",
        "\n",
        "# Carregar o modelo de linguagem do SpaCy\n",
        "nlp = spacy.load('en_core_web_sm')"
      ]
    },
    {
      "cell_type": "code",
      "source": [
        "\n",
        "texto = \"Natural Language Processing with Python is interesting and challenging.\"\n",
        "palavras = word_tokenize(texto)\n",
        "print(\"Tokenização:\", palavras)\n"
      ],
      "metadata": {
        "colab": {
          "base_uri": "https://localhost:8080/"
        },
        "id": "B0s4EqqLWg1v",
        "outputId": "8c9946cf-a519-4593-bf91-924f84675524"
      },
      "execution_count": 4,
      "outputs": [
        {
          "output_type": "stream",
          "name": "stdout",
          "text": [
            "Tokenização: ['Natural', 'Language', 'Processing', 'with', 'Python', 'is', 'interesting', 'and', 'challenging', '.']\n"
          ]
        }
      ]
    },
    {
      "cell_type": "code",
      "source": [
        "stop_words = set(stopwords.words('english'))\n",
        "palavras_filtradas = [palavra for palavra in palavras if not palavra.lower() in stop_words]\n",
        "print(\"Após remoção de Stop Words:\", palavras_filtradas)"
      ],
      "metadata": {
        "colab": {
          "base_uri": "https://localhost:8080/"
        },
        "id": "L83X0MGBWmXc",
        "outputId": "08dacd87-d6fb-45a8-e2e1-5e8667bedc4f"
      },
      "execution_count": 5,
      "outputs": [
        {
          "output_type": "stream",
          "name": "stdout",
          "text": [
            "Após remoção de Stop Words: ['Natural', 'Language', 'Processing', 'Python', 'interesting', 'challenging', '.']\n"
          ]
        }
      ]
    },
    {
      "cell_type": "code",
      "source": [
        "doc = nlp(\" \".join(palavras_filtradas))\n",
        "lematizado = [token.lemma_ for token in doc]\n",
        "print(\"Lematização:\", lematizado)"
      ],
      "metadata": {
        "colab": {
          "base_uri": "https://localhost:8080/"
        },
        "id": "cLQ0_t7VWpPW",
        "outputId": "33c813f3-ec31-4f89-bf03-52a914b0375a"
      },
      "execution_count": 6,
      "outputs": [
        {
          "output_type": "stream",
          "name": "stdout",
          "text": [
            "Lematização: ['Natural', 'Language', 'Processing', 'Python', 'interesting', 'challenge', '.']\n"
          ]
        }
      ]
    },
    {
      "cell_type": "code",
      "source": [
        "from nltk.sentiment import SentimentIntensityAnalyzer\n",
        "nltk.download('vader_lexicon')\n",
        "\n",
        "sia = SentimentIntensityAnalyzer()\n",
        "sentimento = sia.polarity_scores(texto)\n",
        "print(\"Análise de Sentimentos:\", sentimento)"
      ],
      "metadata": {
        "colab": {
          "base_uri": "https://localhost:8080/"
        },
        "id": "xEnILSTHWri1",
        "outputId": "1d6c20a8-1831-4d0e-e281-9a27547f8a1c"
      },
      "execution_count": 7,
      "outputs": [
        {
          "output_type": "stream",
          "name": "stdout",
          "text": [
            "Análise de Sentimentos: {'neg': 0.0, 'neu': 0.469, 'pos': 0.531, 'compound': 0.7003}\n"
          ]
        },
        {
          "output_type": "stream",
          "name": "stderr",
          "text": [
            "[nltk_data] Downloading package vader_lexicon to /root/nltk_data...\n"
          ]
        }
      ]
    }
  ]
}