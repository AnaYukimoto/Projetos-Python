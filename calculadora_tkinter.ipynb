{
  "nbformat": 4,
  "nbformat_minor": 0,
  "metadata": {
    "colab": {
      "provenance": [],
      "authorship_tag": "ABX9TyOZ0wqbwioWtAcjx24o+l7n",
      "include_colab_link": true
    },
    "kernelspec": {
      "name": "python3",
      "display_name": "Python 3"
    },
    "language_info": {
      "name": "python"
    }
  },
  "cells": [
    {
      "cell_type": "markdown",
      "metadata": {
        "id": "view-in-github",
        "colab_type": "text"
      },
      "source": [
        "<a href=\"https://colab.research.google.com/github/AnaYukimoto/Projetos-Python/blob/main/calculadora_tkinter.ipynb\" target=\"_parent\"><img src=\"https://colab.research.google.com/assets/colab-badge.svg\" alt=\"Open In Colab\"/></a>"
      ]
    },
    {
      "cell_type": "code",
      "source": [
        "# Executa no PyCharm, instalar bibliotecas para executar no Colab"
      ],
      "metadata": {
        "id": "AG53kJlHOfhq"
      },
      "execution_count": null,
      "outputs": []
    },
    {
      "cell_type": "code",
      "source": [
        "import tkinter as tk"
      ],
      "metadata": {
        "id": "evIFs5nZKBZH"
      },
      "execution_count": null,
      "outputs": []
    },
    {
      "cell_type": "code",
      "execution_count": null,
      "metadata": {
        "id": "bYNBFoecJIlo"
      },
      "outputs": [],
      "source": [
        "from tkinter import messagebox\n",
        "\n",
        "# Criar a janela principal\n",
        "janela = tk.Tk()\n",
        "janela.title(\"Calculadora Simples\")\n",
        "\n",
        "# Definir o tamanho da janela\n",
        "janela.geometry(\"400x500\")\n",
        "\n",
        "# Entrada para os números e operações\n",
        "entrada = tk.Entry(janela, width=16, font=(\"Arial\", 24), borderwidth=2, relief=\"solid\")\n",
        "entrada.grid(row=0, column=0, columnspan=4)\n",
        "\n",
        "# Função para adicionar texto na entrada\n",
        "def adicionar_texto(texto):\n",
        "    entrada.insert(tk.END, texto)\n",
        "\n",
        "# Função para calcular o resultado\n",
        "def calcular():\n",
        "    try:\n",
        "        resultado = eval(entrada.get())\n",
        "        entrada.delete(0, tk.END)\n",
        "        entrada.insert(tk.END, str(resultado))\n",
        "    except Exception as e:\n",
        "        messagebox.showerror(\"Erro\", \"Entrada inválida\")\n",
        "\n",
        "# Função para limpar a entrada\n",
        "def limpar():\n",
        "    entrada.delete(0, tk.END)\n",
        "\n",
        "# Botões da calculadora\n",
        "botoes = [\n",
        "    (\"7\", 1, 0), (\"8\", 1, 1), (\"9\", 1, 2), (\"/\", 1, 3),\n",
        "    (\"4\", 2, 0), (\"5\", 2, 1), (\"6\", 2, 2), (\"*\", 2, 3),\n",
        "    (\"1\", 3, 0), (\"2\", 3, 1), (\"3\", 3, 2), (\"-\", 3, 3),\n",
        "    (\"0\", 4, 0), (\".\", 4, 1), (\"+\", 4, 2), (\"=\", 4, 3),\n",
        "    (\"C\", 5, 0)\n",
        "]\n",
        "\n",
        "for (texto, linha, coluna) in botoes:\n",
        "    if texto == \"=\":\n",
        "        btn = tk.Button(janela, text=texto, width=10, height=3, command=calcular)\n",
        "    elif texto == \"C\":\n",
        "        btn = tk.Button(janela, text=texto, width=10, height=3, command=limpar)\n",
        "    else:\n",
        "        btn = tk.Button(janela, text=texto, width=10, height=3, command=lambda t=texto: adicionar_texto(t))\n",
        "    btn.grid(row=linha, column=coluna)\n",
        "\n",
        "# Executar o loop principal\n",
        "janela.mainloop()\n"
      ]
    }
  ]
}