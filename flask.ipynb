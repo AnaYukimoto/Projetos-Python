{
  "nbformat": 4,
  "nbformat_minor": 0,
  "metadata": {
    "colab": {
      "provenance": [],
      "authorship_tag": "ABX9TyN824Z1WhPfn4G0QMdsFux4",
      "include_colab_link": true
    },
    "kernelspec": {
      "name": "python3",
      "display_name": "Python 3"
    },
    "language_info": {
      "name": "python"
    }
  },
  "cells": [
    {
      "cell_type": "markdown",
      "metadata": {
        "id": "view-in-github",
        "colab_type": "text"
      },
      "source": [
        "<a href=\"https://colab.research.google.com/github/AnaYukimoto/Projetos-Python/blob/main/flask.ipynb\" target=\"_parent\"><img src=\"https://colab.research.google.com/assets/colab-badge.svg\" alt=\"Open In Colab\"/></a>"
      ]
    },
    {
      "cell_type": "code",
      "source": [
        "\"\"\"\n",
        "Executar no PyCharm\n",
        "\n",
        "meu_projeto/\n",
        "├── app.py\n",
        "├── templates/\n",
        "│   ├── base.html\n",
        "│   ├── index.html\n",
        "│   └── contato.html\n",
        "└── static/\n",
        "    ├── css/\n",
        "    └── js/\n",
        "\"\"\""
      ],
      "metadata": {
        "id": "p7CrCcA9XMP-"
      },
      "execution_count": null,
      "outputs": []
    },
    {
      "cell_type": "code",
      "source": [
        "pip install flask"
      ],
      "metadata": {
        "id": "9XPZHc7AXikE"
      },
      "execution_count": null,
      "outputs": []
    },
    {
      "cell_type": "code",
      "execution_count": null,
      "metadata": {
        "id": "FI4G-eTjXEyF"
      },
      "outputs": [],
      "source": [
        "# app.py\n",
        "\n",
        "\n",
        "from flask import Flask, render_template, request\n",
        "\n",
        "app = Flask(__name__)\n",
        "\n",
        "@app.route('/')\n",
        "def index():\n",
        "    return render_template('index.html')\n",
        "\n",
        "@app.route('/contato', methods=['GET', 'POST'])\n",
        "def contato():\n",
        "    if request.method == 'POST':\n",
        "        nome = request.form['nome']\n",
        "        mensagem = request.form['mensagem']\n",
        "        return f\"<h1>Obrigado, {nome}! Recebemos sua mensagem.</h1>\"\n",
        "    return render_template('contato.html')\n",
        "\n",
        "if __name__ == '__main__':\n",
        "    app.run(debug=True)\n",
        "\n"
      ]
    },
    {
      "cell_type": "code",
      "source": [
        "# base.html\n",
        "\n",
        "<!DOCTYPE html>\n",
        "<html lang=\"en\">\n",
        "<head>\n",
        "    <meta charset=\"UTF-8\">\n",
        "    <meta name=\"viewport\" content=\"width=device-width, initial-scale=1.0\">\n",
        "    <title>{{ title }}</title>\n",
        "    <link rel=\"stylesheet\" href=\"{{ url_for('static', filename='css/style.css') }}\">\n",
        "</head>\n",
        "<body>\n",
        "    <header>\n",
        "        <h1>Minha Aplicação Flask</h1>\n",
        "        <nav>\n",
        "            <a href=\"{{ url_for('index') }}\">Início</a>\n",
        "            <a href=\"{{ url_for('contato') }}\">Contato</a>\n",
        "        </nav>\n",
        "    </header>\n",
        "    <main>\n",
        "        {% block content %}{% endblock %}\n",
        "    </main>\n",
        "</body>\n",
        "</html>"
      ],
      "metadata": {
        "id": "v-MHs0EPXsyb"
      },
      "execution_count": null,
      "outputs": []
    },
    {
      "cell_type": "code",
      "source": [
        "# index.html\n",
        "\n",
        "{% extends 'base.html' %}\n",
        "{% block content %}\n",
        "<h2>Página Inicial</h2>\n",
        "<p>Bem-vindo à minha aplicação Flask!</p>\n",
        "{% endblock %}"
      ],
      "metadata": {
        "id": "t7brzEmWX0Y_"
      },
      "execution_count": null,
      "outputs": []
    },
    {
      "cell_type": "code",
      "source": [
        "# contato.html\n",
        "\n",
        "{% extends 'base.html' %}\n",
        "{% block content %}\n",
        "<h2>Contato</h2>\n",
        "<form method=\"post\">\n",
        "    <label for=\"nome\">Nome:</label>\n",
        "    <input type=\"text\" id=\"nome\" name=\"nome\" required>\n",
        "    <label for=\"mensagem\">Mensagem:</label>\n",
        "    <textarea id=\"mensagem\" name=\"mensagem\" required></textarea>\n",
        "    <button type=\"submit\">Enviar</button>\n",
        "</form>\n",
        "{% endblock %}\n",
        "\n"
      ],
      "metadata": {
        "id": "94HNK6vFX-vQ"
      },
      "execution_count": null,
      "outputs": []
    },
    {
      "cell_type": "code",
      "source": [
        "python app.py"
      ],
      "metadata": {
        "id": "KliFg5SqYFf2"
      },
      "execution_count": null,
      "outputs": []
    }
  ]
}