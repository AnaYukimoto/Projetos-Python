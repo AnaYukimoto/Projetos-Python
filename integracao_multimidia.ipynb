{
  "nbformat": 4,
  "nbformat_minor": 0,
  "metadata": {
    "colab": {
      "provenance": [],
      "authorship_tag": "ABX9TyNJKHnR11DRXZjFMjBfAGD+",
      "include_colab_link": true
    },
    "kernelspec": {
      "name": "python3",
      "display_name": "Python 3"
    },
    "language_info": {
      "name": "python"
    }
  },
  "cells": [
    {
      "cell_type": "markdown",
      "metadata": {
        "id": "view-in-github",
        "colab_type": "text"
      },
      "source": [
        "<a href=\"https://colab.research.google.com/github/AnaYukimoto/Projetos-Python/blob/main/integracao_multimidia.ipynb\" target=\"_parent\"><img src=\"https://colab.research.google.com/assets/colab-badge.svg\" alt=\"Open In Colab\"/></a>"
      ]
    },
    {
      "cell_type": "code",
      "source": [
        "pip install moviepy"
      ],
      "metadata": {
        "id": "qLA0zzBsEmQA"
      },
      "execution_count": null,
      "outputs": []
    },
    {
      "cell_type": "code",
      "execution_count": 3,
      "metadata": {
        "colab": {
          "base_uri": "https://localhost:8080/"
        },
        "id": "dCrMsxuVEbNg",
        "outputId": "746511b8-c5a2-4ae0-e0aa-8ef4aaf78891"
      },
      "outputs": [
        {
          "output_type": "stream",
          "name": "stdout",
          "text": [
            "Moviepy - Building video video_final.mp4.\n",
            "MoviePy - Writing audio in video_finalTEMP_MPY_wvf_snd.mp4\n"
          ]
        },
        {
          "output_type": "stream",
          "name": "stderr",
          "text": []
        },
        {
          "output_type": "stream",
          "name": "stdout",
          "text": [
            "MoviePy - Done.\n",
            "Moviepy - Writing video video_final.mp4\n",
            "\n"
          ]
        },
        {
          "output_type": "stream",
          "name": "stderr",
          "text": []
        },
        {
          "output_type": "stream",
          "name": "stdout",
          "text": [
            "Moviepy - Done !\n",
            "Moviepy - video ready video_final.mp4\n"
          ]
        }
      ],
      "source": [
        "from moviepy.editor import *\n",
        "\n",
        "# Carregar imagens\n",
        "imagem1 = ImageClip(\"/content/css.png\").set_duration(2)\n",
        "imagem2 = ImageClip(\"/content/html.png\").set_duration(2)\n",
        "imagem3 = ImageClip(\"/content/js.png\").set_duration(2)\n",
        "\n",
        "# Carregar áudio\n",
        "audio = AudioFileClip(\"/content/audio.mp3\")\n",
        "\n",
        "# Criar um vídeo a partir das imagens\n",
        "video = concatenate_videoclips([imagem1, imagem2, imagem3], method=\"compose\")\n",
        "\n",
        "# Adicionar áudio ao vídeo\n",
        "video = video.set_audio(audio)\n",
        "\n",
        "# Adicionar texto sobreposto\n",
        "#texto = TextClip(\"Projeto Multimídia\", fontsize=70, color='white')\n",
        "#texto = texto.set_position('center').set_duration(6)\n",
        "#video = CompositeVideoClip([video, texto])\n",
        "\n",
        "# Exportar o vídeo final\n",
        "video.write_videofile(\"video_final.mp4\", codec=\"libx264\", audio_codec=\"aac\", fps=30)\n",
        "\n"
      ]
    }
  ]
}