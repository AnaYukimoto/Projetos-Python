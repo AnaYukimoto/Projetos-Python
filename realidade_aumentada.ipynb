{
  "nbformat": 4,
  "nbformat_minor": 0,
  "metadata": {
    "colab": {
      "provenance": [],
      "authorship_tag": "ABX9TyMMxOjYB/CW9qXPDKGcGm+6",
      "include_colab_link": true
    },
    "kernelspec": {
      "name": "python3",
      "display_name": "Python 3"
    },
    "language_info": {
      "name": "python"
    }
  },
  "cells": [
    {
      "cell_type": "markdown",
      "metadata": {
        "id": "view-in-github",
        "colab_type": "text"
      },
      "source": [
        "<a href=\"https://colab.research.google.com/github/AnaYukimoto/Projetos-Python/blob/main/realidade_aumentada.ipynb\" target=\"_parent\"><img src=\"https://colab.research.google.com/assets/colab-badge.svg\" alt=\"Open In Colab\"/></a>"
      ]
    },
    {
      "cell_type": "code",
      "source": [
        "import cv2\n",
        "import numpy as np"
      ],
      "metadata": {
        "id": "bF9PgyQBVt89"
      },
      "execution_count": null,
      "outputs": []
    },
    {
      "cell_type": "code",
      "execution_count": null,
      "metadata": {
        "id": "zUxwSPvKVrIB"
      },
      "outputs": [],
      "source": [
        "# Carregar a imagem do marcador\n",
        "marcador = cv2.imread('C:/Users/Aluno/PycharmProjects/realidade_aumentada/marcador.jpg', 0)\n",
        "\n",
        "# Carregar a imagem a ser sobreposta\n",
        "sobreposicao = cv2.imread('C:/Users/Aluno/PycharmProjects/realidade_aumentada/sobreposicao.png')\n",
        "\n",
        "# Iniciar a captura de vídeo\n",
        "captura = cv2.VideoCapture(0)\n",
        "\n",
        "# Criar o detector de características\n",
        "sift = cv2.SIFT_create()\n",
        "kp_marcador, des_marcador = sift.detectAndCompute(marcador, None)\n",
        "\n",
        "# Configurar o matcher\n",
        "bf = cv2.BFMatcher(cv2.NORM_L2, crossCheck=False)\n",
        "\n",
        "while True:\n",
        "    # Capturar frame a frame\n",
        "    ret, frame = captura.read()\n",
        "    if not ret:\n",
        "        break\n",
        "\n",
        "    gray_frame = cv2.cvtColor(frame, cv2.COLOR_BGR2GRAY)\n",
        "    kp_frame, des_frame = sift.detectAndCompute(gray_frame, None)\n",
        "\n",
        "    if des_marcador is None or des_frame is None:\n",
        "        continue\n",
        "\n",
        "    # Encontrar correspondências\n",
        "    matches = bf.knnMatch(des_marcador, des_frame, k=2)\n",
        "    good_matches = []\n",
        "    for m, n in matches:\n",
        "        if m.distance < 0.75 * n.distance:\n",
        "            good_matches.append(m)\n",
        "\n",
        "    # Aplicar a sobreposição se correspondências suficientes forem encontradas\n",
        "    if len(good_matches) > 10:\n",
        "        src_pts = np.float32([kp_marcador[m.queryIdx].pt for m in good_matches]).reshape(-1, 1, 2)\n",
        "        dst_pts = np.float32([kp_frame[m.trainIdx].pt for m in good_matches]).reshape(-1, 1, 2)\n",
        "\n",
        "        M, mask = cv2.findHomography(src_pts, dst_pts, cv2.RANSAC, 5.0)\n",
        "        h, w = marcador.shape\n",
        "        pts = np.float32([[0, 0], [0, h - 1], [w - 1, h - 1], [w - 1, 0]]).reshape(-1, 1, 2)\n",
        "        dst = cv2.perspectiveTransform(pts, M)\n",
        "\n",
        "        # Sobrepor a imagem\n",
        "        frame = cv2.polylines(frame, [np.int32(dst)], True, 255, 3, cv2.LINE_AA)\n",
        "        warp_img = cv2.warpPerspective(sobreposicao, M, (frame.shape[1], frame.shape[0]))\n",
        "        mask = np.zeros_like(frame, dtype=np.uint8)\n",
        "        cv2.fillPoly(mask, [np.int32(dst)], (255, 255, 255))\n",
        "        mask_inv = cv2.bitwise_not(mask)\n",
        "        frame = cv2.bitwise_and(frame, mask_inv)\n",
        "        frame = cv2.add(frame, warp_img)\n",
        "\n",
        "    # Exibir o frame\n",
        "    cv2.imshow('Realidade Aumentada', frame)\n",
        "\n",
        "    # Pressionar 'q' para sair\n",
        "    if cv2.waitKey(1) & 0xFF == ord('q'):\n",
        "        break\n",
        "\n",
        "# Liberar a captura e fechar as janelas\n",
        "captura.release()\n",
        "cv2.destroyAllWindows()\n"
      ]
    }
  ]
}